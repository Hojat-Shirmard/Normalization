{
 "cells": [
  {
   "cell_type": "code",
   "execution_count": 1,
   "metadata": {},
   "outputs": [],
   "source": [
    "import numpy as np\n",
    "import matplotlib.pyplot as plt\n",
    "from skimage import io\n",
    "import rasterio as rio"
   ]
  },
  {
   "cell_type": "code",
   "execution_count": 2,
   "metadata": {},
   "outputs": [],
   "source": [
    "B1 = io.imread('G:/Python_Learning/TEST/Landsat_8_2013-07-02/LC81600392013183LGN00_B1.TIF')\n",
    "B2 = io.imread('G:/Python_Learning/TEST/Landsat_8_2013-07-02/LC81600392013183LGN00_B2.TIF')\n",
    "B3 = io.imread('G:/Python_Learning/TEST/Landsat_8_2013-07-02/LC81600392013183LGN00_B3.TIF')\n",
    "B4 = io.imread('G:/Python_Learning/TEST/Landsat_8_2013-07-02/LC81600392013183LGN00_B4.TIF')\n",
    "B5 = io.imread('G:/Python_Learning/TEST/Landsat_8_2013-07-02/LC81600392013183LGN00_B5.TIF')\n",
    "B6 = io.imread('G:/Python_Learning/TEST/Landsat_8_2013-07-02/LC81600392013183LGN00_B6.TIF')\n",
    "B7 = io.imread('G:/Python_Learning/TEST/Landsat_8_2013-07-02/LC81600392013183LGN00_B7.TIF')\n",
    "#B8 = io.imread('G:/Python_Learning/TEST/Landsat_8_2013-07-02/LC81600392013183LGN00_B8.TIF')\n",
    "B9 = io.imread('G:/Python_Learning/TEST/Landsat_8_2013-07-02/LC81600392013183LGN00_B9.TIF')\n",
    "B10 = io.imread('G:/Python_Learning/TEST/Landsat_8_2013-07-02/LC81600392013183LGN00_B10.TIF')\n",
    "B11 = io.imread('G:/Python_Learning/TEST/Landsat_8_2013-07-02/LC81600392013183LGN00_B11.TIF')\n",
    "BQA = io.imread('G:/Python_Learning/TEST/Landsat_8_2013-07-02/LC81600392013183LGN00_BQA.TIF')"
   ]
  },
  {
   "cell_type": "code",
   "execution_count": 3,
   "metadata": {},
   "outputs": [],
   "source": [
    "FB1 = np.array(B1).astype(float)\n",
    "FB2 = np.array(B2).astype(float)\n",
    "FB3 = np.array(B3).astype(float)\n",
    "FB4 = np.array(B4).astype(float)\n",
    "FB5 = np.array(B5).astype(float)\n",
    "FB6 = np.array(B6).astype(float)\n",
    "FB7 = np.array(B7).astype(float)\n",
    "#FB8 = np.array(B8).astype(float)\n",
    "FB9 = np.array(B9).astype(float)\n",
    "FB10 = np.array(B10).astype(float)\n",
    "FB11 = np.array(B11).astype(float)\n",
    "FBQA = np.array(BQA).astype(float)"
   ]
  },
  {
   "cell_type": "code",
   "execution_count": 4,
   "metadata": {},
   "outputs": [],
   "source": [
    "NFB1 = (FB1-np.min(FB1))/(np.max(FB1)-np.min(FB1))\n",
    "NFB2 = (FB2-np.min(FB2))/(np.max(FB2)-np.min(FB2))\n",
    "NFB3 = (FB3-np.min(FB3))/(np.max(FB3)-np.min(FB3))\n",
    "NFB4 = (FB4-np.min(FB4))/(np.max(FB4)-np.min(FB4))\n",
    "NFB5 = (FB5-np.min(FB5))/(np.max(FB5)-np.min(FB5))\n",
    "NFB6 = (FB6-np.min(FB6))/(np.max(FB6)-np.min(FB6))\n",
    "NFB7 = (FB7-np.min(FB7))/(np.max(FB7)-np.min(FB7))\n",
    "#NFB8 = (FB8-np.min(FB8))/(np.max(FB8)-np.min(FB8))\n",
    "NFB9 = (FB9-np.min(FB9))/(np.max(FB9)-np.min(FB9))\n",
    "NFB10 = (FB10-np.min(FB10))/(np.max(FB10)-np.min(FB10))\n",
    "NFB11 = (FB11-np.min(FB11))/(np.max(FB11)-np.min(FB11))\n",
    "NFBQA = (FBQA-np.min(FBQA))/(np.max(FBQA)-np.min(FBQA))"
   ]
  },
  {
   "cell_type": "code",
   "execution_count": 7,
   "metadata": {},
   "outputs": [],
   "source": [
    "io.imsave (\"G:/Python_Learning/TEST/Landsat_8_NFB/'+'NFB1'+'.TIFF\", NFB1)\n",
    "io.imsave (\"G:/Python_Learning/TEST/Landsat_8_NFB/'+'NFB2'+'.TIFF\", NFB2)\n",
    "io.imsave (\"G:/Python_Learning/TEST/Landsat_8_NFB/'+'NFB3'+'.TIFF\", NFB3)\n",
    "io.imsave (\"G:/Python_Learning/TEST/Landsat_8_NFB/'+'NFB4'+'.TIFF\", NFB4)\n",
    "io.imsave (\"G:/Python_Learning/TEST/Landsat_8_NFB/'+'NFB5'+'.TIFF\", NFB5)\n",
    "io.imsave (\"G:/Python_Learning/TEST/Landsat_8_NFB/'+'NFB6'+'.TIFF\", NFB6)\n",
    "io.imsave (\"G:/Python_Learning/TEST/Landsat_8_NFB/'+'NFB7'+'.TIFF\", NFB7)\n",
    "#io.imsave (\"G:/Python_Learning/TEST/Landsat_8_NFB/'+'NFB8'+'.TIFF\", NFB8)\n",
    "io.imsave (\"G:/Python_Learning/TEST/Landsat_8_NFB/'+'NFB9'+'.TIFF\", NFB9)\n",
    "io.imsave (\"G:/Python_Learning/TEST/Landsat_8_NFB/'+'NFB10'+'.TIFF\", NFB10)\n",
    "io.imsave (\"G:/Python_Learning/TEST/Landsat_8_NFB/'+'NFB11'+'.TIFF\", NFB11)\n",
    "io.imsave (\"G:/Python_Learning/TEST/Landsat_8_NFB/'+'NFBQA'+'.TIFF\", NFBQA)"
   ]
  },
  {
   "cell_type": "code",
   "execution_count": null,
   "metadata": {},
   "outputs": [],
   "source": [
    "fig , ax = plt.subplots(nrows=2, ncols=2, figsize=(20,15))\n",
    "ax[0,0].imshow(B1, cmap='gray')\n",
    "ax[0,0].set_title ('B1-Image')\n",
    "ax[0,0].axis('off')\n",
    "ax[0,1].hist(B1.ravel(), bins=256, density=True, histtype='bar', color='black')\n",
    "ax[0,1].ticklabel_format(style='plain')\n",
    "ax[0,1].set_title('histogram of B1 RAW')\n",
    "###########################################################\n",
    "ax[1,0].imshow(NFB1, cmap='gray')\n",
    "ax[1,0].set_title ('NFB_1')\n",
    "ax[1,0].axis('off')\n",
    "ax[1,1].hist(NFB1.ravel(), bins=256, density=True, histtype='bar', color='black')\n",
    "ax[1,1].ticklabel_format(style='plain')\n",
    "ax[1,1].set_title('histogram of NFB1 Normalized')"
   ]
  },
  {
   "cell_type": "code",
   "execution_count": null,
   "metadata": {},
   "outputs": [],
   "source": []
  }
 ],
 "metadata": {
  "kernelspec": {
   "display_name": "Python 3",
   "language": "python",
   "name": "python3"
  },
  "language_info": {
   "codemirror_mode": {
    "name": "ipython",
    "version": 3
   },
   "file_extension": ".py",
   "mimetype": "text/x-python",
   "name": "python",
   "nbconvert_exporter": "python",
   "pygments_lexer": "ipython3",
   "version": "3.7.7"
  }
 },
 "nbformat": 4,
 "nbformat_minor": 4
}
